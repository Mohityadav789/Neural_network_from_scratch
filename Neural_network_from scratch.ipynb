{
 "cells": [
  {
   "cell_type": "code",
   "execution_count": 1,
   "id": "1ab96969",
   "metadata": {},
   "outputs": [],
   "source": [
    "import numpy as np\n",
    "import pandas as pd \n",
    "import matplotlib.pyplot as plt"
   ]
  },
  {
   "cell_type": "code",
   "execution_count": 2,
   "id": "bfbbd6d3",
   "metadata": {},
   "outputs": [],
   "source": [
    "data = pd.read_csv(\"train.csv\")"
   ]
  },
  {
   "cell_type": "code",
   "execution_count": 3,
   "id": "d311adae",
   "metadata": {},
   "outputs": [],
   "source": [
    "a = data['label'].value_counts()"
   ]
  },
  {
   "cell_type": "code",
   "execution_count": 4,
   "id": "9167bed5",
   "metadata": {},
   "outputs": [],
   "source": [
    "data = np.array(data)\n",
    "m, n = data.shape\n",
    "np.random.shuffle(data)\n",
    "\n",
    "data_for_dev = data[0:1000].T\n",
    "Y_dev = data[0].T\n",
    "X_dev = data[1:n]\n",
    "\n",
    "data_for_train = data[1000:n].T\n",
    "Y_train = data[0].T\n",
    "X_train = data[1:n]\n",
    "#     W1 = np.random.randn(10, 784) * 0.01\n",
    "#     b1 = np.zeros((10, 1))\n",
    "#     W2 = np.random.randn(10, 10) * 0.01\n",
    "#     b2 = np.zeros((10, 1))\n",
    "#     return W1, b1, W2, b2"
   ]
  },
  {
   "cell_type": "code",
   "execution_count": 5,
   "id": "7954adb9",
   "metadata": {},
   "outputs": [
    {
     "name": "stdout",
     "output_type": "stream",
     "text": [
      "Iteration 0: Accuracy = 10.50%\n",
      "Iteration 10: Accuracy = 11.70%\n",
      "Iteration 20: Accuracy = 11.80%\n",
      "Iteration 30: Accuracy = 11.80%\n",
      "Iteration 40: Accuracy = 11.80%\n",
      "Iteration 50: Accuracy = 11.80%\n",
      "Iteration 60: Accuracy = 11.80%\n",
      "Iteration 70: Accuracy = 11.80%\n",
      "Iteration 80: Accuracy = 11.80%\n",
      "Iteration 90: Accuracy = 11.80%\n"
     ]
    }
   ],
   "source": [
    "def init_params():\n",
    "    W1 = np.random.randn(10,784) * 0.01\n",
    "    b1 = np.zeros((10,1))\n",
    "    W2 = np.random.randn(10,10) * 0.01\n",
    "    b2 = np.zeros((10,1))\n",
    "    return W1, b1, W2, b2\n",
    "\n",
    "def ReLU(Z):\n",
    "    return np.maximum(0,Z)\n",
    "\n",
    "def softmax(Z):\n",
    "    e_x = np.exp(Z - np.max(Z, axis=0, keepdims=True))\n",
    "    return e_x / e_x.sum(axis=0, keepdims=True)\n",
    "\n",
    "def forward_prop(W1, b1, W2, b2, X):\n",
    "    Z1 = W1.dot(X) + b1    \n",
    "    A1 = ReLU(Z1)\n",
    "    Z2 = W2.dot(A1) + b2\n",
    "    A2 = softmax(Z2)\n",
    "    return Z1, A1, Z2, A2\n",
    "\n",
    "def one_hot(Y, num_classes = 10):\n",
    "    one_hot_Y = np.zeros((num_classes, Y.size))\n",
    "    one_hot_Y[Y, np.arange(Y.size)] = 1\n",
    "    return one_hot_Y\n",
    "\n",
    "def deriv_ReLU(Z):\n",
    "    return Z > 0 \n",
    "\n",
    "def back_prop(Z1, A1, Z2, A2, W2, X, Y):\n",
    "    m = Y.size\n",
    "    one_hot_Y = one_hot(Y)\n",
    "    dZ2 = A2 - one_hot_Y\n",
    "    dW2 = 1 / m * dZ2.dot(A1.T)\n",
    "    db2 = 1 / m * np.sum(dZ2, axis= 1, keepdims=True)\n",
    "    dZ1 = W2.T.dot(dZ2) * deriv_ReLU(Z1)\n",
    "    dW1 = 1 / m * dZ1.dot(X.T)\n",
    "    db1 = 1 / m * np.sum(dZ1, axis=1, keepdims=True)\n",
    "    return dW1, db1, dW2, db2\n",
    "    \n",
    "def update_params(W1, b1, W2, b2, dW1, db1, dW2, db2, alpha):\n",
    "    W1 -= alpha * dW1\n",
    "    b1 -= alpha * db1\n",
    "    W2 -= alpha * dW2\n",
    "    b2 -= alpha * db2\n",
    "    return W1, b1, W2, b2\n",
    "\n",
    "def get_prediction(A2):\n",
    "    return np.argmax(A2, axis=0)\n",
    "\n",
    "def get_accuracy(prediction, Y):\n",
    "    return np.sum(prediction == Y) / Y.size\n",
    "\n",
    "def gradient_descent(X, Y, iterations, alpha):\n",
    "    W1, b1, W2, b2 = init_params()\n",
    "    for i in range(iterations):\n",
    "        Z1, A1, Z2, A2 = forward_prop(W1, b1, W2, b2, X)\n",
    "        dW1, db1, dW2, db2 = back_prop(Z1, A1, Z2, A2, W2, X, Y)\n",
    "        W1, b1, W2, b2 = update_params(W1, b1, W2, b2, dW1, db1, dW2, db2, alpha)\n",
    "        if i % 10 == 0:\n",
    "            predictions = get_prediction(A2)\n",
    "            accuracy = get_accuracy(predictions, Y)\n",
    "            print(f\"Iteration {i}: Accuracy = {accuracy * 100:.2f}%\")\n",
    "    return W1, b1, W2, b2\n",
    "\n",
    "# Example usage\n",
    "if __name__ == \"__main__\":\n",
    "    # Simulated data (e.g., 784 features, 1000 samples)\n",
    "    X_train = np.random.rand(784, 1000)\n",
    "    Y_train = np.random.randint(0, 10, 1000)\n",
    "  \n",
    "    # Training the neural network\n",
    "    W1, b1, W2, b2 = gradient_descent(X_train, Y_train, iterations=100, alpha=0.1)    "
   ]
  },
  {
   "cell_type": "code",
   "execution_count": null,
   "id": "3d9c5816",
   "metadata": {},
   "outputs": [],
   "source": []
  },
  {
   "cell_type": "code",
   "execution_count": null,
   "id": "67eae334",
   "metadata": {},
   "outputs": [],
   "source": []
  },
  {
   "cell_type": "code",
   "execution_count": null,
   "id": "9e528db2",
   "metadata": {},
   "outputs": [],
   "source": []
  },
  {
   "cell_type": "code",
   "execution_count": null,
   "id": "4da726e7",
   "metadata": {},
   "outputs": [],
   "source": []
  },
  {
   "cell_type": "code",
   "execution_count": null,
   "id": "a4325ba8",
   "metadata": {},
   "outputs": [],
   "source": []
  },
  {
   "cell_type": "code",
   "execution_count": null,
   "id": "77f937ec",
   "metadata": {},
   "outputs": [],
   "source": []
  }
 ],
 "metadata": {
  "kernelspec": {
   "display_name": "Python 3 (ipykernel)",
   "language": "python",
   "name": "python3"
  },
  "language_info": {
   "codemirror_mode": {
    "name": "ipython",
    "version": 3
   },
   "file_extension": ".py",
   "mimetype": "text/x-python",
   "name": "python",
   "nbconvert_exporter": "python",
   "pygments_lexer": "ipython3",
   "version": "3.11.7"
  }
 },
 "nbformat": 4,
 "nbformat_minor": 5
}
